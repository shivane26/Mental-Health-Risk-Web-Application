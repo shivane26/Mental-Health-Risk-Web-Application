{
 "cells": [
  {
   "cell_type": "code",
   "execution_count": 5,
   "id": "3166f683",
   "metadata": {},
   "outputs": [
    {
     "name": "stdout",
     "output_type": "stream",
     "text": [
      "📊 Logistic Regression -> Accuracy: 0.782, Precision: 0.747, Recall: 0.841, F1-score: 0.791\n",
      "📊 Random Forest -> Accuracy: 0.862, Precision: 0.829, Recall: 0.911, F1-score: 0.902\n",
      "📊 XGBoost -> Accuracy: 0.826, Precision: 0.790, Recall: 0.849, F1-score: 0.818\n",
      "\n",
      "✅ Best Model: RandomForestClassifier (F1-score: 0.902) saved as 'best_model.pkl'\n",
      "✅ Scaler saved as 'scaler.pkl'\n"
     ]
    }
   ],
   "source": [
    "import pandas as pd\n",
    "import numpy as np\n",
    "import pickle\n",
    "from sklearn.model_selection import train_test_split\n",
    "from sklearn.preprocessing import StandardScaler\n",
    "from sklearn.linear_model import LogisticRegression\n",
    "from sklearn.ensemble import RandomForestClassifier\n",
    "from xgboost import XGBClassifier\n",
    "from sklearn.metrics import accuracy_score, precision_score, recall_score, f1_score\n",
    "\n",
    "# Load cleaned dataset\n",
    "df = pd.read_csv(\"survey1_cleaned.csv\")\n",
    "\n",
    "# Separate features & target variable\n",
    "X = df.drop(columns=['treatment'])  # Drop target column\n",
    "y = df['treatment']  # Target variable\n",
    "\n",
    "# Split into training & testing sets\n",
    "X_train, X_test, y_train, y_test = train_test_split(X, y, test_size=0.2, random_state=42)\n",
    "\n",
    "# Standardize features (important for models like Logistic Regression)\n",
    "scaler = StandardScaler()\n",
    "X_train = scaler.fit_transform(X_train)\n",
    "X_test = scaler.transform(X_test)\n",
    "\n",
    "# Initialize models\n",
    "models = {\n",
    "    \"Logistic Regression\": LogisticRegression(),\n",
    "    \"Random Forest\": RandomForestClassifier(n_estimators=100, random_state=42),\n",
    "    \"XGBoost\": XGBClassifier(use_label_encoder=False, eval_metric='logloss')\n",
    "}\n",
    "\n",
    "# Train & Evaluate models\n",
    "best_model = None\n",
    "best_f1 = 0\n",
    "results = []\n",
    "\n",
    "for name, model in models.items():\n",
    "    model.fit(X_train, y_train)\n",
    "    y_pred = model.predict(X_test)\n",
    "\n",
    "    # Compute evaluation metrics\n",
    "    acc = accuracy_score(y_test, y_pred)\n",
    "    prec = precision_score(y_test, y_pred)\n",
    "    rec = recall_score(y_test, y_pred)\n",
    "    f1 = f1_score(y_test, y_pred)\n",
    "\n",
    "    results.append((name, acc, prec, rec, f1))\n",
    "    print(f\"📊 {name} -> Accuracy: {acc:.3f}, Precision: {prec:.3f}, Recall: {rec:.3f}, F1-score: {f1:.3f}\")\n",
    "\n",
    "    # Save the best model\n",
    "    if f1 > best_f1:\n",
    "        best_f1 = f1\n",
    "        best_model = model\n",
    "\n",
    "# Save the best model to a .pkl file\n",
    "with open(\"best_model.pkl\", \"wb\") as f:\n",
    "    pickle.dump(best_model, f)\n",
    "\n",
    "# Save the scaler to a .pkl file\n",
    "with open(\"scaler.pkl\", \"wb\") as f:\n",
    "    pickle.dump(scaler, f)\n",
    "\n",
    "print(f\"\\n✅ Best Model: {best_model.__class__.__name__} (F1-score: {best_f1:.3f}) saved as 'best_model.pkl'\")\n",
    "print(f\"✅ Scaler saved as 'scaler.pkl'\")"
   ]
  }
 ],
 "metadata": {
  "kernelspec": {
   "display_name": "Python 3 (ipykernel)",
   "language": "python",
   "name": "python3"
  },
  "language_info": {
   "codemirror_mode": {
    "name": "ipython",
    "version": 3
   },
   "file_extension": ".py",
   "mimetype": "text/x-python",
   "name": "python",
   "nbconvert_exporter": "python",
   "pygments_lexer": "ipython3",
   "version": "3.11.5"
  }
 },
 "nbformat": 4,
 "nbformat_minor": 5
}
